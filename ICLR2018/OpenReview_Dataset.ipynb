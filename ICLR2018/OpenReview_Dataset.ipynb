{
 "cells": [
  {
   "cell_type": "code",
   "execution_count": 17,
   "metadata": {},
   "outputs": [],
   "source": [
    "import openreview\n",
    "import pandas as pd\n",
    "import numpy as np"
   ]
  },
  {
   "cell_type": "markdown",
   "metadata": {},
   "source": [
    "# Scratch the ICLR 2018 accepted paper list(oral, poster)"
   ]
  },
  {
   "cell_type": "code",
   "execution_count": 18,
   "metadata": {},
   "outputs": [],
   "source": [
    "# Scratch the accepted papers' title from ICLR's webpage.\n",
    "import re\n",
    "import urllib.request\n",
    "from bs4 import BeautifulSoup  # Currently, python's standard lib is sufficient for this task.\n",
    "\n",
    "import ssl\n",
    "ssl._create_default_https_context = ssl._create_unverified_context\n",
    "\n",
    "def extract_oral():\n",
    "    html = urllib.request.urlopen(\n",
    "        'https://iclr.cc/Conferences/2018/Schedule?type=Oral'\n",
    "        ).read().decode('utf-8')\n",
    "    res = re.findall(\"<div class=\\x22maincardBody\\x22>(.+?)</div>\", html)\n",
    "    return res\n",
    "\n",
    "def extract_poster():\n",
    "    html = urllib.request.urlopen(\n",
    "        'https://iclr.cc/Conferences/2018/Schedule?type=Poster'\n",
    "        ).read().decode('utf-8')\n",
    "    res = re.findall(\"<div class=\\x22maincardBody\\x22>(.+?)</div>\", html)\n",
    "    return res\n",
    "\n",
    "oral = extract_oral()\n",
    "poster = extract_poster()\n",
    "accept = oral+poster"
   ]
  },
  {
   "cell_type": "code",
   "execution_count": 19,
   "metadata": {},
   "outputs": [],
   "source": [
    "#Log into openreview.net, and list all the invitations.\n",
    "client = openreview.Client(baseurl='https://openreview.net', username = \"dylanjootw@gmail.com\", password=\"cfdacfda\")\n",
    "invi = openreview.tools.get_submission_invitations(client)\n",
    "iclr_invi = [item for item in invi if ('ICLR' in item)]  # invitations with ICLR"
   ]
  },
  {
   "cell_type": "code",
   "execution_count": 20,
   "metadata": {},
   "outputs": [],
   "source": [
    "BS = \"ICLR.cc/2018/Conference/-/Blind_Submission\"  #With all the submitted papers.\n",
    "OR = \"ICLR.cc/2018/Conference/-/Paper.*/Official_Review\"\n",
    "PC = \"ICLR.cc/2018/Conference/-/Paper.*/Public_Comment\""
   ]
  },
  {
   "cell_type": "code",
   "execution_count": 7,
   "metadata": {},
   "outputs": [],
   "source": [
    "AR = \"ICLR.cc/2017/conference/-/paper.*/acceptance\"\n",
    "BS = \"ICLR.cc/2018/Conference/-/submission\" "
   ]
  },
  {
   "cell_type": "markdown",
   "metadata": {},
   "source": [
    "# Preparing all the paper submitted to ICLR 2018 \n",
    "\n",
    "@Using Pandas DataFrame."
   ]
  },
  {
   "cell_type": "code",
   "execution_count": 21,
   "metadata": {},
   "outputs": [],
   "source": [
    "# Retrieve the paper with oral accpeted.\n",
    "pid = []\n",
    "title = []\n",
    "abstract = []\n",
    "key = []\n",
    "\n",
    "for note in openreview.tools.iterget_notes(client, invitation = BS):\n",
    "    if note.content['title'] in oral:\n",
    "        pid.append(note.id)\n",
    "        title.append(note.content['title'])\n",
    "        abstract.append(note.content['abstract'])\n",
    "        key.append(note.content['keywords'])\n",
    "\n",
    "oral_df = pd.DataFrame(data = {'PID': pid, 'Title': title, 'Abstract': abstract, 'Keyword': key})\n",
    "oral_df.insert(1, 'Decision', 1)"
   ]
  },
  {
   "cell_type": "code",
   "execution_count": 9,
   "metadata": {},
   "outputs": [],
   "source": [
    "# Retrieve the paper with poster accpeted.\n",
    "pid = []\n",
    "title = []\n",
    "abstract = []\n",
    "key = []\n",
    "\n",
    "for note in openreview.tools.iterget_notes(client, invitation = BS):\n",
    "    if note.content['title'] in poster:\n",
    "        pid.append(note.id)\n",
    "        title.append(note.content['title'])\n",
    "        abstract.append(note.content['abstract'])\n",
    "        key.append(note.content['keywords'])\n",
    "\n",
    "poster_df = pd.DataFrame(data = {'PID': pid, 'Title': title, 'Abstract': abstract, 'Keyword': key})\n",
    "poster_df.insert(1, 'Decision', 1)"
   ]
  },
  {
   "cell_type": "code",
   "execution_count": 10,
   "metadata": {},
   "outputs": [],
   "source": [
    "# Retrieve the rejected paper.\n",
    "pid = []\n",
    "title = []\n",
    "abstract = []\n",
    "key = []\n",
    "\n",
    "for note in openreview.tools.iterget_notes(client, invitation = BS):\n",
    "    if note.content['title'] not in accept:\n",
    "        pid.append(note.id)\n",
    "        title.append(note.content['title'])\n",
    "        abstract.append(note.content['abstract'])\n",
    "        key.append(note.content['keywords'])\n",
    "\n",
    "reject_df = pd.DataFrame(data = {'PID': pid, 'Title': title, 'Abstract': abstract, 'Keyword': key})\n",
    "reject_df.insert(1, 'Decision', 1)"
   ]
  },
  {
   "cell_type": "code",
   "execution_count": 11,
   "metadata": {},
   "outputs": [],
   "source": [
    "#Export into CSV file(Opitional)\n",
    "df = pd.concat([oral_df, poster_df, reject_df])\n",
    "df.to_csv('ICLR18_submissiom.csv', index = False)\n",
    "oral_df.to_csv('ICLR18_oral.csv', index = False)\n",
    "poster_df.to_csv('ICLR18_poster.csv', index = False)\n",
    "reject_df.to_csv('ICLR18_reject.csv', index = False)"
   ]
  },
  {
   "cell_type": "markdown",
   "metadata": {},
   "source": [
    "# Preparing official reviews in ICLR 2018 "
   ]
  },
  {
   "cell_type": "code",
   "execution_count": 12,
   "metadata": {},
   "outputs": [],
   "source": [
    "# Retrieve the reviews from openreview.net.\n",
    "pid = []\n",
    "conf = []\n",
    "rating = []\n",
    "review = []\n",
    "title = []\n",
    "\n",
    "for note in openreview.tools.iterget_notes(client, invitation = OR):\n",
    "        title.append(note.content['title'])\n",
    "        review.append(note.content['review'])\n",
    "        rating.append(note.content['rating'][0])\n",
    "        # Extract the scores only.\n",
    "        conf.append(note.content['confidence'][0])\n",
    "        pid.append(note.forum)\n",
    "\n",
    "or_df = pd.DataFrame(data = {'PID': pid, 'Title': title, 'Review': review, 'Rating': rating, 'Conf': conf})"
   ]
  },
  {
   "cell_type": "code",
   "execution_count": 13,
   "metadata": {},
   "outputs": [],
   "source": [
    "#Export into CSV file(Opitional)\n",
    "or_df.to_csv('ICLR18_reviews.csv', index = False)"
   ]
  }
 ],
 "metadata": {
  "kernelspec": {
   "display_name": "Python 3",
   "language": "python",
   "name": "python3"
  },
  "language_info": {
   "codemirror_mode": {
    "name": "ipython",
    "version": 3
   },
   "file_extension": ".py",
   "mimetype": "text/x-python",
   "name": "python",
   "nbconvert_exporter": "python",
   "pygments_lexer": "ipython3",
   "version": "3.7.0"
  }
 },
 "nbformat": 4,
 "nbformat_minor": 2
}
