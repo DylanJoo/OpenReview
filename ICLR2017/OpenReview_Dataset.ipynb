{
 "cells": [
  {
   "cell_type": "code",
   "execution_count": 2,
   "metadata": {},
   "outputs": [],
   "source": [
    "import openreview\n",
    "import pandas as pd\n",
    "import numpy as np"
   ]
  },
  {
   "cell_type": "markdown",
   "metadata": {},
   "source": [
    "# Scratch the ICLR 2018 accepted paper list(oral, poster)"
   ]
  },
  {
   "cell_type": "code",
   "execution_count": 3,
   "metadata": {},
   "outputs": [],
   "source": [
    "#Log into openreview.net, and list all the invitations.\n",
    "client = openreview.Client(baseurl='https://openreview.net', username = \"dylanjootw@gmail.com\", password=\"cfdacfda\")\n",
    "invi = openreview.tools.get_submission_invitations(client)\n",
    "iclr_invi = [item for item in invi if ('ICLR' in item)]  # invitations with ICLR"
   ]
  },
  {
   "cell_type": "code",
   "execution_count": 30,
   "metadata": {},
   "outputs": [],
   "source": [
    "BS = \"ICLR.cc/2017/conference/-/submission\"  #With all the submitted papers.\n",
    "OR = \"ICLR.cc/2017/conference/-/paper.*/review\"\n",
    "A = \"ICLR.cc/2017/conference/-/paper.*/acceptance\""
   ]
  },
  {
   "cell_type": "code",
   "execution_count": 13,
   "metadata": {},
   "outputs": [],
   "source": [
    "oral = []\n",
    "poster = []\n",
    "reject = []\n",
    "ws = []\n",
    "for note in openreview.tools.iterget_notes(client, invitation = A):\n",
    "    d = note.content['decision'] \n",
    "    if d == 'Invite to Workshop Track':\n",
    "        ws.append(note.forum)\n",
    "    elif d == 'Accept (Oral)':\n",
    "        oral.append(note.forum)\n",
    "    elif d == 'Accept (Poster)':\n",
    "        poster.append(note.forum)\n",
    "    elif d == 'Reject':\n",
    "        reject.append(note.forum)\n",
    "    else:\n",
    "        print('WTF!!!!')"
   ]
  },
  {
   "cell_type": "markdown",
   "metadata": {},
   "source": [
    "# Preparing all the paper submitted to ICLR 2018 \n",
    "\n",
    "@Using Pandas DataFrame."
   ]
  },
  {
   "cell_type": "code",
   "execution_count": 19,
   "metadata": {},
   "outputs": [],
   "source": [
    "# Retrieve and classify each paper. (1: oral accpet, 2: poster accpet, 0: reject, -1: invite to workshop)\n",
    "pid = []\n",
    "decision = []\n",
    "title = []\n",
    "abstract = []\n",
    "key = []\n",
    "\n",
    "for note in openreview.tools.iterget_notes(client, invitation = BS):\n",
    "    pid.append(note.id)\n",
    "    title.append(note.content['title'])\n",
    "    abstract.append(note.content['abstract'])\n",
    "    key.append(note.content['keywords'])\n",
    "    if note.id in oral:\n",
    "        decision.append(1)\n",
    "    elif note.id in poster:\n",
    "        decision.append(2)\n",
    "    elif note.id in reject:\n",
    "        decision.append(0)\n",
    "    elif note.id in ws:\n",
    "        decision.append(-1)\n",
    "    else:\n",
    "        print(\"WTF!!\")\n",
    "\n",
    "df = pd.DataFrame(data = {'PID': pid, 'Decision': decision, 'Title': title, 'Abstract': abstract, 'Keyword': key})"
   ]
  },
  {
   "cell_type": "code",
   "execution_count": 22,
   "metadata": {},
   "outputs": [],
   "source": [
    "#Export into CSV file(Opitional)\n",
    "df.to_csv('ICLR17_submissions.csv', index = False)"
   ]
  },
  {
   "cell_type": "markdown",
   "metadata": {},
   "source": [
    "# Preparing official reviews in ICLR 2018 "
   ]
  },
  {
   "cell_type": "code",
   "execution_count": 53,
   "metadata": {},
   "outputs": [],
   "source": [
    "# Retrieve the reviews from openreview.net.\n",
    "pid = []\n",
    "conf = []\n",
    "rating = []\n",
    "review = []\n",
    "title = []\n",
    "\n",
    "for note in openreview.tools.iterget_notes(client, invitation = OR):\n",
    "        title.append(note.content['title'])\n",
    "        review.append(note.content['review'])\n",
    "        rating.append(note.content['rating'][0])\n",
    "        pid.append(note.forum)\n",
    "        try:\n",
    "            conf.append(note.content['confidence'][0])\n",
    "        except:\n",
    "            conf.append(np.nan)\n",
    "\n",
    "\n",
    "or_df = pd.DataFrame(data = {'PID': pid, 'Title': title, 'Review': review, 'Rating': rating, 'Conf': conf})"
   ]
  },
  {
   "cell_type": "code",
   "execution_count": 56,
   "metadata": {},
   "outputs": [],
   "source": [
    "#Export into CSV file(Opitional)\n",
    "or_df.to_csv('ICLR17_reviews.csv', index = False)"
   ]
  }
 ],
 "metadata": {
  "kernelspec": {
   "display_name": "Python 3",
   "language": "python",
   "name": "python3"
  },
  "language_info": {
   "codemirror_mode": {
    "name": "ipython",
    "version": 3
   },
   "file_extension": ".py",
   "mimetype": "text/x-python",
   "name": "python",
   "nbconvert_exporter": "python",
   "pygments_lexer": "ipython3",
   "version": "3.7.0"
  }
 },
 "nbformat": 4,
 "nbformat_minor": 2
}
